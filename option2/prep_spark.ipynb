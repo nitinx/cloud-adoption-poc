{
 "cells": [
  {
   "cell_type": "code",
   "execution_count": 1,
   "metadata": {},
   "outputs": [
    {
     "data": {
      "text/plain": [
       "'C:\\\\spark\\\\spark-2.4.6-bin-hadoop2.7'"
      ]
     },
     "execution_count": 1,
     "metadata": {},
     "output_type": "execute_result"
    }
   ],
   "source": [
    "import findspark\n",
    "findspark.init()\n",
    "findspark.find()\n",
    "import pyspark\n",
    "findspark.find()"
   ]
  },
  {
   "cell_type": "code",
   "execution_count": 2,
   "metadata": {
    "collapsed": true
   },
   "outputs": [],
   "source": [
    "from pyspark.sql import SparkSession\n",
    "from pyspark.sql.types import *\n",
    "from pyspark.sql.functions import to_date, when, datediff\n",
    "import pyspark.sql.functions as psf"
   ]
  },
  {
   "cell_type": "code",
   "execution_count": 3,
   "metadata": {
    "collapsed": true
   },
   "outputs": [],
   "source": [
    "spark = SparkSession.builder.master(\"local\").getOrCreate()"
   ]
  },
  {
   "cell_type": "markdown",
   "metadata": {},
   "source": [
    "spark = SparkSession \\\n",
    ".builder \\\n",
    ".config(\"spark.jars.packages\", \"org.apache.hadoop:hadoop-aws:2.7.0\") \\\n",
    ".getOrCreate()"
   ]
  },
  {
   "cell_type": "code",
   "execution_count": 4,
   "metadata": {
    "collapsed": true
   },
   "outputs": [],
   "source": [
    "# Read in the data here\n",
    "clients_all = \"E:\\cmpoc\\clients_all.csv\"\n",
    "clients_top = \"E:\\cmpoc\\clients_top.csv\"\n",
    "investigations = \"E:\\cmpoc\\investigations_20200601.csv\""
   ]
  },
  {
   "cell_type": "markdown",
   "metadata": {},
   "source": [
    "schema_investigations = StructType([\n",
    "    StructField(\"bus_dt\", DateType()),\n",
    "    StructField(\"prpc_lob_seq_id\", IntegerType()),\n",
    "    StructField(\"inqr_id\", DoubleType()),\n",
    "    StructField(\"client_id\", DateType()),\n",
    "    StructField(\"calc_rslv_dt\", DateType()),\n",
    "    StructField(\"case_entr_dt\", DateType()),\n",
    "    StructField(\"frst_rslv_dt\", DateType()),\n",
    "    StructField(\"last_ropned_dt\", DateType()),\n",
    "    StructField(\"ropn_cn\", IntegerType()),\n",
    "    StructField(\"inqr_amt\", DoubleType()),\n",
    "    StructField(\"inqr_amt_ccy\", StringType()),\n",
    "    StructField(\"case_own_nm\", StringType())\n",
    "])"
   ]
  },
  {
   "cell_type": "code",
   "execution_count": 5,
   "metadata": {
    "collapsed": true
   },
   "outputs": [],
   "source": [
    "df_clients_all = spark.read.csv(clients_all, header=True, inferSchema=True)\n",
    "df_clients_top = spark.read.csv(clients_top, header=True, inferSchema=True)\n",
    "df_investigations = spark.read.csv(investigations, header=True, inferSchema=True)"
   ]
  },
  {
   "cell_type": "code",
   "execution_count": 6,
   "metadata": {},
   "outputs": [
    {
     "data": {
      "text/plain": [
       "[Row(client_id=1000, client_name='Accenture'),\n",
       " Row(client_id=1001, client_name='Apple'),\n",
       " Row(client_id=1002, client_name='Google Corp'),\n",
       " Row(client_id=1003, client_name='Reliance'),\n",
       " Row(client_id=1004, client_name='Facebook Inc')]"
      ]
     },
     "execution_count": 6,
     "metadata": {},
     "output_type": "execute_result"
    }
   ],
   "source": [
    "df_clients_all.head(5)"
   ]
  },
  {
   "cell_type": "code",
   "execution_count": 7,
   "metadata": {},
   "outputs": [
    {
     "data": {
      "text/plain": [
       "[Row(client_id=1000, top_client_ind='Y'),\n",
       " Row(client_id=1001, top_client_ind='Y'),\n",
       " Row(client_id=1005, top_client_ind='Y'),\n",
       " Row(client_id=1006, top_client_ind='Y'),\n",
       " Row(client_id=1007, top_client_ind='Y')]"
      ]
     },
     "execution_count": 7,
     "metadata": {},
     "output_type": "execute_result"
    }
   ],
   "source": [
    "df_clients_top.head(5)"
   ]
  },
  {
   "cell_type": "code",
   "execution_count": 8,
   "metadata": {},
   "outputs": [
    {
     "data": {
      "text/plain": [
       "[Row(bus_dt='01-06-2020', prpc_lob_seq_id=3, inqr_id=5000000, client_id=1000, calc_rslv_dt='01-06-2020', case_entr_dt='01-01-2020', frst_rslv_dt='05-01-2020', last_ropned_dt='05-02-2020', ropn_cn=1, inqr_amt=20000, inqr_amt_ccy='USD', case_own_nm='Stephen'),\n",
       " Row(bus_dt='01-06-2020', prpc_lob_seq_id=3, inqr_id=5000001, client_id=1000, calc_rslv_dt='01-06-2020', case_entr_dt='01-02-2020', frst_rslv_dt='28-02-2020', last_ropned_dt='28-03-2020', ropn_cn=1, inqr_amt=1, inqr_amt_ccy='USD', case_own_nm='Stephen'),\n",
       " Row(bus_dt='01-06-2020', prpc_lob_seq_id=3, inqr_id=5000002, client_id=1000, calc_rslv_dt='01-06-2020', case_entr_dt='01-03-2020', frst_rslv_dt='15-03-2020', last_ropned_dt='25-03-2020', ropn_cn=2, inqr_amt=12556, inqr_amt_ccy='USD', case_own_nm='Stephen'),\n",
       " Row(bus_dt='01-06-2020', prpc_lob_seq_id=3, inqr_id=5000003, client_id=1000, calc_rslv_dt='01-06-2020', case_entr_dt='01-04-2020', frst_rslv_dt='15-04-2020', last_ropned_dt='25-04-2020', ropn_cn=2, inqr_amt=77787, inqr_amt_ccy='USD', case_own_nm='Stephen'),\n",
       " Row(bus_dt='01-06-2020', prpc_lob_seq_id=3, inqr_id=5000004, client_id=1000, calc_rslv_dt='01-06-2020', case_entr_dt='01-04-2020', frst_rslv_dt='16-04-2020', last_ropned_dt='16-04-2020', ropn_cn=1, inqr_amt=8900, inqr_amt_ccy='USD', case_own_nm='John')]"
      ]
     },
     "execution_count": 8,
     "metadata": {},
     "output_type": "execute_result"
    }
   ],
   "source": [
    "df_investigations.head(5)"
   ]
  },
  {
   "cell_type": "code",
   "execution_count": 9,
   "metadata": {
    "collapsed": true
   },
   "outputs": [],
   "source": [
    "df_investigations = df_investigations.withColumn('bus_dt',to_date(df_investigations.bus_dt, 'dd-MM-yyyy'))"
   ]
  },
  {
   "cell_type": "code",
   "execution_count": 10,
   "metadata": {
    "collapsed": true
   },
   "outputs": [],
   "source": [
    "df_investigations = df_investigations.withColumn('calc_rslv_dt',to_date(df_investigations.calc_rslv_dt, 'dd-MM-yyyy'))"
   ]
  },
  {
   "cell_type": "code",
   "execution_count": 11,
   "metadata": {
    "collapsed": true
   },
   "outputs": [],
   "source": [
    "df_investigations = df_investigations.withColumn('case_entr_dt',to_date(df_investigations.case_entr_dt, 'dd-MM-yyyy'))"
   ]
  },
  {
   "cell_type": "code",
   "execution_count": 12,
   "metadata": {
    "collapsed": true
   },
   "outputs": [],
   "source": [
    "df_investigations = df_investigations.withColumn('bus_dt',to_date(df_investigations.bus_dt, 'dd-MM-yyyy'))"
   ]
  },
  {
   "cell_type": "code",
   "execution_count": 13,
   "metadata": {
    "collapsed": true
   },
   "outputs": [],
   "source": [
    "df_investigations = df_investigations.withColumn('frst_rslv_dt',to_date(df_investigations.frst_rslv_dt, 'dd-MM-yyyy'))"
   ]
  },
  {
   "cell_type": "code",
   "execution_count": 14,
   "metadata": {
    "collapsed": true
   },
   "outputs": [],
   "source": [
    "df_investigations = df_investigations.withColumn('last_ropned_dt',to_date(df_investigations.last_ropned_dt, 'dd-MM-yyyy'))"
   ]
  },
  {
   "cell_type": "code",
   "execution_count": 15,
   "metadata": {
    "collapsed": true
   },
   "outputs": [],
   "source": [
    "df_investigations = df_investigations \\\n",
    "  .withColumn('year', df_investigations['bus_dt'].substr(1, 4)) \\\n",
    "  .withColumn('month', df_investigations['bus_dt'].substr(6, 2)) \\\n",
    "  .withColumn('day', df_investigations['bus_dt'].substr(9, 2))"
   ]
  },
  {
   "cell_type": "code",
   "execution_count": 16,
   "metadata": {},
   "outputs": [
    {
     "data": {
      "text/plain": [
       "[Row(bus_dt=datetime.date(2020, 6, 1), prpc_lob_seq_id=3, inqr_id=5000000, client_id=1000, calc_rslv_dt=datetime.date(2020, 6, 1), case_entr_dt=datetime.date(2020, 1, 1), frst_rslv_dt=datetime.date(2020, 1, 5), last_ropned_dt=datetime.date(2020, 2, 5), ropn_cn=1, inqr_amt=20000, inqr_amt_ccy='USD', case_own_nm='Stephen', year='2020', month='06', day='01'),\n",
       " Row(bus_dt=datetime.date(2020, 6, 1), prpc_lob_seq_id=3, inqr_id=5000001, client_id=1000, calc_rslv_dt=datetime.date(2020, 6, 1), case_entr_dt=datetime.date(2020, 2, 1), frst_rslv_dt=datetime.date(2020, 2, 28), last_ropned_dt=datetime.date(2020, 3, 28), ropn_cn=1, inqr_amt=1, inqr_amt_ccy='USD', case_own_nm='Stephen', year='2020', month='06', day='01'),\n",
       " Row(bus_dt=datetime.date(2020, 6, 1), prpc_lob_seq_id=3, inqr_id=5000002, client_id=1000, calc_rslv_dt=datetime.date(2020, 6, 1), case_entr_dt=datetime.date(2020, 3, 1), frst_rslv_dt=datetime.date(2020, 3, 15), last_ropned_dt=datetime.date(2020, 3, 25), ropn_cn=2, inqr_amt=12556, inqr_amt_ccy='USD', case_own_nm='Stephen', year='2020', month='06', day='01'),\n",
       " Row(bus_dt=datetime.date(2020, 6, 1), prpc_lob_seq_id=3, inqr_id=5000003, client_id=1000, calc_rslv_dt=datetime.date(2020, 6, 1), case_entr_dt=datetime.date(2020, 4, 1), frst_rslv_dt=datetime.date(2020, 4, 15), last_ropned_dt=datetime.date(2020, 4, 25), ropn_cn=2, inqr_amt=77787, inqr_amt_ccy='USD', case_own_nm='Stephen', year='2020', month='06', day='01'),\n",
       " Row(bus_dt=datetime.date(2020, 6, 1), prpc_lob_seq_id=3, inqr_id=5000004, client_id=1000, calc_rslv_dt=datetime.date(2020, 6, 1), case_entr_dt=datetime.date(2020, 4, 1), frst_rslv_dt=datetime.date(2020, 4, 16), last_ropned_dt=datetime.date(2020, 4, 16), ropn_cn=1, inqr_amt=8900, inqr_amt_ccy='USD', case_own_nm='John', year='2020', month='06', day='01')]"
      ]
     },
     "execution_count": 16,
     "metadata": {},
     "output_type": "execute_result"
    }
   ],
   "source": [
    "df_investigations.head(5)"
   ]
  },
  {
   "cell_type": "code",
   "execution_count": 17,
   "metadata": {
    "collapsed": true
   },
   "outputs": [],
   "source": [
    "df_investigations = df_investigations.withColumn('first_tat',datediff(df_investigations.frst_rslv_dt, df_investigations.case_entr_dt))"
   ]
  },
  {
   "cell_type": "code",
   "execution_count": 18,
   "metadata": {
    "collapsed": true
   },
   "outputs": [],
   "source": [
    "df_investigations = df_investigations.withColumn('last_tat',datediff(df_investigations.calc_rslv_dt, df_investigations.last_ropned_dt))"
   ]
  },
  {
   "cell_type": "code",
   "execution_count": 19,
   "metadata": {
    "collapsed": true
   },
   "outputs": [],
   "source": [
    "df_detail = df_investigations.join(df_clients_top, on=['client_id'], how='left_outer')"
   ]
  },
  {
   "cell_type": "code",
   "execution_count": 20,
   "metadata": {},
   "outputs": [
    {
     "data": {
      "text/plain": [
       "Row(client_id=1000, bus_dt=datetime.date(2020, 6, 1), prpc_lob_seq_id=3, inqr_id=5000000, calc_rslv_dt=datetime.date(2020, 6, 1), case_entr_dt=datetime.date(2020, 1, 1), frst_rslv_dt=datetime.date(2020, 1, 5), last_ropned_dt=datetime.date(2020, 2, 5), ropn_cn=1, inqr_amt=20000, inqr_amt_ccy='USD', case_own_nm='Stephen', year='2020', month='06', day='01', first_tat=4, last_tat=117, top_client_ind='Y')"
      ]
     },
     "execution_count": 20,
     "metadata": {},
     "output_type": "execute_result"
    }
   ],
   "source": [
    "df_detail.head()"
   ]
  },
  {
   "cell_type": "code",
   "execution_count": 21,
   "metadata": {},
   "outputs": [
    {
     "data": {
      "text/plain": [
       "DataFrame[summary: string, client_id: string, prpc_lob_seq_id: string, inqr_id: string, ropn_cn: string, inqr_amt: string, inqr_amt_ccy: string, case_own_nm: string, year: string, month: string, day: string, first_tat: string, last_tat: string, top_client_ind: string]"
      ]
     },
     "execution_count": 21,
     "metadata": {},
     "output_type": "execute_result"
    }
   ],
   "source": [
    "df_detail.describe()"
   ]
  },
  {
   "cell_type": "code",
   "execution_count": 22,
   "metadata": {
    "collapsed": true
   },
   "outputs": [],
   "source": [
    "df_summ = df_detail.groupBy('bus_dt','client_id').agg(\\\n",
    "                                                      psf.sum(df_detail.first_tat + df_detail.last_tat).alias('total_tat'),\\\n",
    "                                                      psf.avg(df_detail.first_tat + df_detail.last_tat).alias('avg_tat'),\\\n",
    "                                                      psf.sum('inqr_amt').alias('total_value'),\\\n",
    "                                                      psf.count('inqr_id').alias('rslv_cnt'))"
   ]
  },
  {
   "cell_type": "code",
   "execution_count": 23,
   "metadata": {
    "collapsed": true
   },
   "outputs": [],
   "source": [
    "df_summ = df_summ.withColumn('bus_dt',to_date(df_investigations.bus_dt, 'dd-MM-yyyy'))"
   ]
  },
  {
   "cell_type": "code",
   "execution_count": 24,
   "metadata": {
    "collapsed": true
   },
   "outputs": [],
   "source": [
    "df_summ = df_summ \\\n",
    "  .withColumn('year', df_summ['bus_dt'].substr(1, 4)) \\\n",
    "  .withColumn('month', df_summ['bus_dt'].substr(6, 2)) \\\n",
    "  .withColumn('day', df_summ['bus_dt'].substr(9, 2))"
   ]
  },
  {
   "cell_type": "code",
   "execution_count": 25,
   "metadata": {},
   "outputs": [
    {
     "data": {
      "text/plain": [
       "[Row(bus_dt=datetime.date(2020, 6, 1), client_id=1002, total_tat=-16, avg_tat=-4.0, total_value=1015930, rslv_cnt=4, year='2020', month='06', day='01'),\n",
       " Row(bus_dt=datetime.date(2020, 6, 1), client_id=1001, total_tat=61, avg_tat=20.333333333333332, total_value=901588, rslv_cnt=3, year='2020', month='06', day='01'),\n",
       " Row(bus_dt=datetime.date(2020, 6, 1), client_id=1005, total_tat=20, avg_tat=4.0, total_value=33825, rslv_cnt=5, year='2020', month='06', day='01'),\n",
       " Row(bus_dt=datetime.date(2020, 6, 1), client_id=1000, total_tat=407, avg_tat=81.4, total_value=119244, rslv_cnt=5, year='2020', month='06', day='01'),\n",
       " Row(bus_dt=datetime.date(2020, 6, 1), client_id=1003, total_tat=0, avg_tat=0.0, total_value=144000, rslv_cnt=2, year='2020', month='06', day='01')]"
      ]
     },
     "execution_count": 25,
     "metadata": {},
     "output_type": "execute_result"
    }
   ],
   "source": [
    "df_summ.head(10)"
   ]
  },
  {
   "cell_type": "code",
   "execution_count": null,
   "metadata": {
    "collapsed": true
   },
   "outputs": [],
   "source": []
  },
  {
   "cell_type": "code",
   "execution_count": 1,
   "metadata": {},
   "outputs": [
    {
     "name": "stdout",
     "output_type": "stream",
     "text": [
      "3.14172228\n"
     ]
    }
   ],
   "source": [
    "import findspark\n",
    "findspark.init()\n",
    "\n",
    "import pyspark\n",
    "import random\n",
    "\n",
    "sc = pyspark.SparkContext(appName=\"Pi\")\n",
    "num_samples = 100000000\n",
    "\n",
    "def inside(p):     \n",
    "  x, y = random.random(), random.random()\n",
    "  return x*x + y*y < 1\n",
    "\n",
    "count = sc.parallelize(range(0, num_samples)).filter(inside).count()\n",
    "\n",
    "pi = 4 * count / num_samples\n",
    "print(pi)\n",
    "\n",
    "sc.stop()"
   ]
  }
 ],
 "metadata": {
  "kernelspec": {
   "display_name": "Python 3",
   "language": "python",
   "name": "python3"
  },
  "language_info": {
   "codemirror_mode": {
    "name": "ipython",
    "version": 3
   },
   "file_extension": ".py",
   "mimetype": "text/x-python",
   "name": "python",
   "nbconvert_exporter": "python",
   "pygments_lexer": "ipython3",
   "version": "3.6.3"
  }
 },
 "nbformat": 4,
 "nbformat_minor": 2
}
